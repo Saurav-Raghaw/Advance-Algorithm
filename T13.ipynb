{
  "nbformat": 4,
  "nbformat_minor": 0,
  "metadata": {
    "colab": {
      "name": "T13.ipynb",
      "provenance": [],
      "authorship_tag": "ABX9TyMdrpTkOKWQUKWUOSL0Zy1n",
      "include_colab_link": true
    },
    "kernelspec": {
      "name": "python3",
      "display_name": "Python 3"
    },
    "language_info": {
      "name": "python"
    }
  },
  "cells": [
    {
      "cell_type": "markdown",
      "metadata": {
        "id": "view-in-github",
        "colab_type": "text"
      },
      "source": [
        "<a href=\"https://colab.research.google.com/github/Saurav-Raghaw/Advance-Algorithm/blob/main/T13.ipynb\" target=\"_parent\"><img src=\"https://colab.research.google.com/assets/colab-badge.svg\" alt=\"Open In Colab\"/></a>"
      ]
    },
    {
      "cell_type": "code",
      "metadata": {
        "id": "C0IH61hlGKdD"
      },
      "source": [
        "######______Python JSON_____#####\n",
        "'''\n",
        "\n",
        "JSON is a syntax for storing and exchanging data.\n",
        "\n",
        "JSON is text, written with JavaScript object notation.\n",
        "\n",
        "Python has a built-in package called json, which can be used to work with JSON data.\n",
        "\n",
        "If we have a JSON string, we can parse it by using the json.loads() method.\n",
        "\n",
        "JSON functions are used to read and write directly from JSON files.\n",
        "\n",
        "'''"
      ],
      "execution_count": null,
      "outputs": []
    },
    {
      "cell_type": "code",
      "metadata": {
        "colab": {
          "base_uri": "https://localhost:8080/"
        },
        "id": "X7nIb955KACP",
        "outputId": "4535a913-8354-4cec-a3c3-c8d0bea884ec"
      },
      "source": [
        "#Convert from JSON to Python:\n",
        "\n",
        "import json\n",
        "\n",
        "# some JSON:\n",
        "x =  '{ \"name\":\"Saurav\", \"age\":24, \"city\":\"Indore\"}'\n",
        "\n",
        "# parse x:\n",
        "y = json.loads(x)\n",
        "\n",
        "# the result is a Python dictionary:\n",
        "print(y[\"age\"])"
      ],
      "execution_count": 1,
      "outputs": [
        {
          "output_type": "stream",
          "text": [
            "24\n"
          ],
          "name": "stdout"
        }
      ]
    },
    {
      "cell_type": "code",
      "metadata": {
        "colab": {
          "base_uri": "https://localhost:8080/"
        },
        "id": "sAqXMns9KRNt",
        "outputId": "4e6e66da-9776-4e2f-feb9-812a38708af2"
      },
      "source": [
        "#If you have a Python object, you can convert it into a JSON string by using the json.dumps() method.\n",
        "\n",
        "#Convert from Python to JSON:\n",
        "\n",
        "import json\n",
        "\n",
        "# a Python object (dict):\n",
        "x = {\n",
        "  \"name\": \"Saurav\",\n",
        "  \"age\": 24,\n",
        "  \"city\": \"Indore\"\n",
        "}\n",
        "\n",
        "# convert into JSON:\n",
        "y = json.dumps(x)\n",
        "\n",
        "# the result is a JSON string:\n",
        "print(y)"
      ],
      "execution_count": 2,
      "outputs": [
        {
          "output_type": "stream",
          "text": [
            "{\"name\": \"Saurav\", \"age\": 24, \"city\": \"Indore\"}\n"
          ],
          "name": "stdout"
        }
      ]
    },
    {
      "cell_type": "code",
      "metadata": {
        "colab": {
          "base_uri": "https://localhost:8080/"
        },
        "id": "gXf1elypK6h9",
        "outputId": "5f1457a8-da15-4d44-fd9f-989ec5acae9c"
      },
      "source": [
        "#Convert Python objects into JSON strings, and print the values:\n",
        "#When you convert from Python to JSON, Python objects are converted into the JSON (JavaScript) equivalent:\n",
        "\n",
        "import json\n",
        "\n",
        "print(json.dumps({\"name\": \"saurav\", \"age\":24})) #dictionary --> object\n",
        "print(json.dumps([\"apple\", \"bananas\"]))         #list --> Array\n",
        "print(json.dumps((\"apple\", \"bananas\")))         #tuple --> Array\n",
        "print(json.dumps(\"hello\"))                      #string --> String\n",
        "print(json.dumps(42))                           #int -->  Number\n",
        "print(json.dumps(31.76))                        #float --> Number\n",
        "print(json.dumps(True))                         #bool --> bool\n",
        "print(json.dumps(False))                        #bool --> bool\n",
        "print(json.dumps(None))                         #none --> null"
      ],
      "execution_count": 4,
      "outputs": [
        {
          "output_type": "stream",
          "text": [
            "{\"name\": \"saurav\", \"age\": 24}\n",
            "[\"apple\", \"bananas\"]\n",
            "[\"apple\", \"bananas\"]\n",
            "\"hello\"\n",
            "42\n",
            "31.76\n",
            "true\n",
            "false\n",
            "null\n"
          ],
          "name": "stdout"
        }
      ]
    },
    {
      "cell_type": "code",
      "metadata": {
        "colab": {
          "base_uri": "https://localhost:8080/"
        },
        "id": "l6W3uu_3M8uu",
        "outputId": "2139d3b4-e623-47ca-8004-772d5ee4188a"
      },
      "source": [
        "#Converting a Python object containing all the legal data types:\n",
        "\n",
        "import json\n",
        "\n",
        "x = {\n",
        "  \"name\": \"Saurav\",\n",
        "  \"age\": 24,\n",
        "  \"married\": True,\n",
        "  \"divorced\": False,\n",
        "  \"children\": (\"c1\",\"c2\"),\n",
        "  \"pets\": None,\n",
        "  \"cars\": [\n",
        "    {\"model\": \"BMW 230\", \"mpg\": 27.5},\n",
        "    {\"model\": \"Ford Edge\", \"mpg\": 24.1}\n",
        "  ]\n",
        "}\n",
        "\n",
        "print(json.dumps(x))"
      ],
      "execution_count": 5,
      "outputs": [
        {
          "output_type": "stream",
          "text": [
            "{\"name\": \"Saurav\", \"age\": 24, \"married\": true, \"divorced\": false, \"children\": [\"c1\", \"c2\"], \"pets\": null, \"cars\": [{\"model\": \"BMW 230\", \"mpg\": 27.5}, {\"model\": \"Ford Edge\", \"mpg\": 24.1}]}\n"
          ],
          "name": "stdout"
        }
      ]
    },
    {
      "cell_type": "code",
      "metadata": {
        "colab": {
          "base_uri": "https://localhost:8080/",
          "height": 69
        },
        "id": "bVkf43qCNXiT",
        "outputId": "075d7078-4a04-4d44-a0ab-c8a126496a76"
      },
      "source": [
        "#Use the indent parameter to define the numbers of indents:\n",
        "\n",
        "json.dumps(x, indent=4)"
      ],
      "execution_count": 6,
      "outputs": [
        {
          "output_type": "execute_result",
          "data": {
            "application/vnd.google.colaboratory.intrinsic+json": {
              "type": "string"
            },
            "text/plain": [
              "'{\\n    \"name\": \"Saurav\",\\n    \"age\": 24,\\n    \"married\": true,\\n    \"divorced\": false,\\n    \"children\": [\\n        \"c1\",\\n        \"c2\"\\n    ],\\n    \"pets\": null,\\n    \"cars\": [\\n        {\\n            \"model\": \"BMW 230\",\\n            \"mpg\": 27.5\\n        },\\n        {\\n            \"model\": \"Ford Edge\",\\n            \"mpg\": 24.1\\n        }\\n    ]\\n}'"
            ]
          },
          "metadata": {
            "tags": []
          },
          "execution_count": 6
        }
      ]
    },
    {
      "cell_type": "code",
      "metadata": {
        "colab": {
          "base_uri": "https://localhost:8080/",
          "height": 69
        },
        "id": "nT34yIL2NizD",
        "outputId": "1ce16fd0-732f-4822-c81c-9466a99abf47"
      },
      "source": [
        "#Use the separators parameter to change the default separator:\n",
        "\n",
        "json.dumps(x, indent=4, separators=(\". \", \" = \"))"
      ],
      "execution_count": 7,
      "outputs": [
        {
          "output_type": "execute_result",
          "data": {
            "application/vnd.google.colaboratory.intrinsic+json": {
              "type": "string"
            },
            "text/plain": [
              "'{\\n    \"name\" = \"Saurav\". \\n    \"age\" = 24. \\n    \"married\" = true. \\n    \"divorced\" = false. \\n    \"children\" = [\\n        \"c1\". \\n        \"c2\"\\n    ]. \\n    \"pets\" = null. \\n    \"cars\" = [\\n        {\\n            \"model\" = \"BMW 230\". \\n            \"mpg\" = 27.5\\n        }. \\n        {\\n            \"model\" = \"Ford Edge\". \\n            \"mpg\" = 24.1\\n        }\\n    ]\\n}'"
            ]
          },
          "metadata": {
            "tags": []
          },
          "execution_count": 7
        }
      ]
    },
    {
      "cell_type": "code",
      "metadata": {
        "colab": {
          "base_uri": "https://localhost:8080/",
          "height": 69
        },
        "id": "uQ2iEie6N8ox",
        "outputId": "7419cacf-bc11-46e2-c122-e6a80c9367d3"
      },
      "source": [
        "#Use the sort_keys parameter to specify if the result should be sorted or not:\n",
        "\n",
        "json.dumps(x, indent=4, sort_keys=True)"
      ],
      "execution_count": 8,
      "outputs": [
        {
          "output_type": "execute_result",
          "data": {
            "application/vnd.google.colaboratory.intrinsic+json": {
              "type": "string"
            },
            "text/plain": [
              "'{\\n    \"age\": 24,\\n    \"cars\": [\\n        {\\n            \"model\": \"BMW 230\",\\n            \"mpg\": 27.5\\n        },\\n        {\\n            \"model\": \"Ford Edge\",\\n            \"mpg\": 24.1\\n        }\\n    ],\\n    \"children\": [\\n        \"c1\",\\n        \"c2\"\\n    ],\\n    \"divorced\": false,\\n    \"married\": true,\\n    \"name\": \"Saurav\",\\n    \"pets\": null\\n}'"
            ]
          },
          "metadata": {
            "tags": []
          },
          "execution_count": 8
        }
      ]
    }
  ]
}